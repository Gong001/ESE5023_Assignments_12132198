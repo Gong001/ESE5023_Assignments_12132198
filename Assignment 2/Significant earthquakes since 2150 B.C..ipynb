{
 "cells": [
  {
   "cell_type": "code",
   "execution_count": 55,
   "id": "5901000f",
   "metadata": {
    "scrolled": true
   },
   "outputs": [],
   "source": [
    "import pandas as pd\n",
    "import numpy as np\n",
    "from matplotlib import pyplot as plt\n",
    "eq_data = pd.read_csv('Sig_Eqs.tsv',sep = '\\t')\n",
    "plt.rcParams['figure.dpi'] = 100"
   ]
  },
  {
   "cell_type": "code",
   "execution_count": 56,
   "id": "013b52d5",
   "metadata": {},
   "outputs": [],
   "source": [
    "#1.1"
   ]
  },
  {
   "cell_type": "code",
   "execution_count": 57,
   "id": "7789865d",
   "metadata": {},
   "outputs": [
    {
     "name": "stdout",
     "output_type": "stream",
     "text": [
      "Country\n",
      "CHINA         2041784.0\n",
      "TURKEY         867654.0\n",
      "IRAN           758638.0\n",
      "ITALY          359064.0\n",
      "JAPAN          355137.0\n",
      "SYRIA          337700.0\n",
      "HAITI          323770.0\n",
      "AZERBAIJAN     310119.0\n",
      "INDONESIA      280351.0\n",
      "ARMENIA        189000.0\n",
      "Name: Total Deaths, dtype: float64\n",
      "7162533.0\n"
     ]
    }
   ],
   "source": [
    "df_td = eq_data.groupby(['Country']).sum()\n",
    "df_td\n",
    "df_td2 = df_td.sort_values('Total Deaths',ascending=False).head(10)['Total Deaths']\n",
    "print(df_td2)\n",
    "df_td3 = df_td.sum()['Total Deaths']\n",
    "print(df_td3)\n"
   ]
  },
  {
   "cell_type": "code",
   "execution_count": 58,
   "id": "ace620be",
   "metadata": {},
   "outputs": [],
   "source": [
    "#1.2"
   ]
  },
  {
   "cell_type": "code",
   "execution_count": 59,
   "id": "88e49a38",
   "metadata": {
    "scrolled": false
   },
   "outputs": [
    {
     "name": "stdout",
     "output_type": "stream",
     "text": [
      "2870\n"
     ]
    },
    {
     "data": {
      "text/plain": [
       "<AxesSubplot:xlabel='Year', ylabel='times'>"
      ]
     },
     "execution_count": 59,
     "metadata": {},
     "output_type": "execute_result"
    },
    {
     "data": {
      "image/png": "[encoded data removed]",
      "text/plain": [
       "<Figure size 600x400 with 1 Axes>"
      ]
     },
     "metadata": {
      "needs_background": "light"
     },
     "output_type": "display_data"
    }
   ],
   "source": [
    "mag_df = eq_data[eq_data['Mag']>6.0].count()\n",
    "print(mag_df['Mag'])\n",
    "eq_data[eq_data['Mag']>6].groupby('Year').count()['Country'].plot(lw=1,ylabel = 'times')\n",
    "\n",
    "#趋势：1500年之后6.0震级的地震上升趋势明显\n",
    "#原因可能是之前没有记录\n"
   ]
  },
  {
   "cell_type": "code",
   "execution_count": 60,
   "id": "537a7ed8",
   "metadata": {},
   "outputs": [],
   "source": [
    "#1.3"
   ]
  },
  {
   "cell_type": "code",
   "execution_count": 61,
   "id": "a70b38a2",
   "metadata": {},
   "outputs": [],
   "source": [
    "def CountEq_LargestEq(country):\n",
    "    \n",
    "    CountEq_df = len(eq_data[eq_data['Country'] == country])\n",
    "    \n",
    "    LargestEq = eq_data[eq_data['Country'] == country].sort_values('Mag',ascending = False).iloc[0][['Year','Mo','Dy','Mag']]\n",
    "    date = str(LargestEq['Year'])[:-2]+'-'+str(LargestEq['Mo'])[:-2].zfill(2)+'-'+str(LargestEq['Dy'])[:-2].zfill(2)\n",
    "    \n",
    "    return CountEq_df,date\n",
    "\n"
   ]
  },
  {
   "cell_type": "code",
   "execution_count": 62,
   "id": "bb1cd9a1",
   "metadata": {},
   "outputs": [],
   "source": [
    "country_list = eq_data['Country'].unique() \n",
    "\n",
    "arr_eqdata= np.full((country_list.shape[0]-1,2),np.nan)"
   ]
  },
  {
   "cell_type": "code",
   "execution_count": 63,
   "id": "17777951",
   "metadata": {},
   "outputs": [],
   "source": [
    "df_0 = pd.DataFrame(arr_eqdata,index=country_list[1:],columns=['count','date of biggest mag'])"
   ]
  },
  {
   "cell_type": "code",
   "execution_count": 64,
   "id": "ab040bf4",
   "metadata": {},
   "outputs": [],
   "source": [
    "for country in country_list[1:]:\n",
    "    df_0.loc[country,['count','date of biggest mag']]=CountEq_LargestEq(country)"
   ]
  },
  {
   "cell_type": "code",
   "execution_count": 65,
   "id": "44e536d4",
   "metadata": {
    "scrolled": true
   },
   "outputs": [
    {
     "data": {
      "text/html": [
       "<div>\n",
       "<style scoped>\n",
       "    .dataframe tbody tr th:only-of-type {\n",
       "        vertical-align: middle;\n",
       "    }\n",
       "\n",
       "    .dataframe tbody tr th {\n",
       "        vertical-align: top;\n",
       "    }\n",
       "\n",
       "    .dataframe thead th {\n",
       "        text-align: right;\n",
       "    }\n",
       "</style>\n",
       "<table border=\"1\" class=\"dataframe\">\n",
       "  <thead>\n",
       "    <tr style=\"text-align: right;\">\n",
       "      <th></th>\n",
       "      <th>count</th>\n",
       "      <th>date of biggest mag</th>\n",
       "    </tr>\n",
       "  </thead>\n",
       "  <tbody>\n",
       "    <tr>\n",
       "      <th>CHINA</th>\n",
       "      <td>610.0</td>\n",
       "      <td>1668-07-25</td>\n",
       "    </tr>\n",
       "    <tr>\n",
       "      <th>JAPAN</th>\n",
       "      <td>409.0</td>\n",
       "      <td>2011-03-11</td>\n",
       "    </tr>\n",
       "    <tr>\n",
       "      <th>INDONESIA</th>\n",
       "      <td>401.0</td>\n",
       "      <td>2004-12-26</td>\n",
       "    </tr>\n",
       "    <tr>\n",
       "      <th>IRAN</th>\n",
       "      <td>380.0</td>\n",
       "      <td>856-12-22</td>\n",
       "    </tr>\n",
       "    <tr>\n",
       "      <th>TURKEY</th>\n",
       "      <td>330.0</td>\n",
       "      <td>1912-08-09</td>\n",
       "    </tr>\n",
       "    <tr>\n",
       "      <th>...</th>\n",
       "      <td>...</td>\n",
       "      <td>...</td>\n",
       "    </tr>\n",
       "    <tr>\n",
       "      <th>NORWAY</th>\n",
       "      <td>1.0</td>\n",
       "      <td>1819-08-31</td>\n",
       "    </tr>\n",
       "    <tr>\n",
       "      <th>CENTRAL AFRICAN REPUBLIC</th>\n",
       "      <td>1.0</td>\n",
       "      <td>1921-09-16</td>\n",
       "    </tr>\n",
       "    <tr>\n",
       "      <th>PALAU</th>\n",
       "      <td>1.0</td>\n",
       "      <td>1914-10-23</td>\n",
       "    </tr>\n",
       "    <tr>\n",
       "      <th>KIRIBATI</th>\n",
       "      <td>1.0</td>\n",
       "      <td>1905-06-30</td>\n",
       "    </tr>\n",
       "    <tr>\n",
       "      <th>COMOROS</th>\n",
       "      <td>1.0</td>\n",
       "      <td>2018-05-15</td>\n",
       "    </tr>\n",
       "  </tbody>\n",
       "</table>\n",
       "<p>156 rows × 2 columns</p>\n",
       "</div>"
      ],
      "text/plain": [
       "                          count date of biggest mag\n",
       "CHINA                     610.0          1668-07-25\n",
       "JAPAN                     409.0          2011-03-11\n",
       "INDONESIA                 401.0          2004-12-26\n",
       "IRAN                      380.0           856-12-22\n",
       "TURKEY                    330.0          1912-08-09\n",
       "...                         ...                 ...\n",
       "NORWAY                      1.0          1819-08-31\n",
       "CENTRAL AFRICAN REPUBLIC    1.0          1921-09-16\n",
       "PALAU                       1.0          1914-10-23\n",
       "KIRIBATI                    1.0          1905-06-30\n",
       "COMOROS                     1.0          2018-05-15\n",
       "\n",
       "[156 rows x 2 columns]"
      ]
     },
     "execution_count": 65,
     "metadata": {},
     "output_type": "execute_result"
    }
   ],
   "source": [
    "df_0.sort_values('count',ascending=False)"
   ]
  }
 ],
 "metadata": {
  "kernelspec": {
   "display_name": "Python 3",
   "language": "python",
   "name": "python3"
  },
  "language_info": {
   "codemirror_mode": {
    "name": "ipython",
    "version": 3
   },
   "file_extension": ".py",
   "mimetype": "text/x-python",
   "name": "python",
   "nbconvert_exporter": "python",
   "pygments_lexer": "ipython3",
   "version": "3.8.8"
  }
 },
 "nbformat": 4,
 "nbformat_minor": 5
}
